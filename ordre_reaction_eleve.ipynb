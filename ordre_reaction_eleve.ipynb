{
 "cells": [
  {
   "cell_type": "markdown",
   "metadata": {},
   "source": [
    "# Ordre de réaction\n",
    "\n",
    "## Le sucre de consommation est principalement constitué de saccharose, une molécule susceptible de se décomposer et de former du glucose et du fructose (molécules isomères) en quantité équimolaire lors de son hydrolyse.\n",
    "<table>\n",
    "    <tr><td style=\"font-size:2em\">A</td><td style=\"font-size:2em\">+</td><td style=\"font-size:2em\">B</td><td style=\"font-size:2em\">-></td><td style=\"font-size:2em\">C</td><td style=\"font-size:2em\">+</td><td style=\"font-size:2em\">D</td></tr>   \n",
    "<tr><td style=\"font-size:2em\">C<sub>12</sub>H<sub>22</sub>O<sub>11</sub></td><td>+</td><td style=\"font-size:2em\">H<sub>2</sub>O</td><td style=\"font-size:2em\">-></td><td style=\"font-size:2em\">C<sub>6</sub>H<sub>12</sub>O<sub>6</sub></td><td style=\"font-size:2em\">+</td><td style=\"font-size:2em\">C<sub>6</sub>H<sub>12</sub>O<sub>6</sub></td></tr>\n",
    "</table>\n",
    "\n",
    "\n",
    "### ➜ Quelle équation peut modéliser la vitesse de cette réaction ?"
   ]
  },
  {
   "cell_type": "markdown",
   "metadata": {},
   "source": [
    "## Document 1 : Ordre de réaction"
   ]
  },
  {
   "cell_type": "markdown",
   "metadata": {},
   "source": [
    "Une réaction, dont la vitesse ne dépend que de la concentration d’un seul réactif $A_{aq}$, est dite d’ordre α si la vitesse volumique de disparition de $A_{aq}$ s’écrit :   <br>\n",
    "$v_{A} =k. {[A]}^{α} \\begin{array}{l|ll}& k &:& constante~de~vitesse (SI)  \\\\&  [A] &:& concentration~en~réactif~A_{aq}~({mol·L}^{-1})   \\\\&  α&:& ordre~ de~la~réaction\\\\\\end{array}$   <br>\n",
    "\n",
    "De nombreuses réactions de décomposition sont d’ordre 1 (α=1 et k en $s^{-1}$).<br>       \n",
    "La vitesse volumique de disparition de $A_{aq}$ est alors proportionnelle à sa concentration \\[A\\].<br>"
   ]
  },
  {
   "cell_type": "markdown",
   "metadata": {},
   "source": [
    "## Document 2 :  Mesures\n",
    "Ce tableau présente l’évolution au cours du temps de la concentration en saccharose  C<sub>12</sub>H<sub>22</sub>O<sub>11</sub> à 370 K.\n",
    "\n",
    "|Temps t (s)|Concentration C<sub>12</sub>H<sub>22</sub>O<sub>11</sub> (mol·L<sup>-1</sup>)|\n",
    "| ------------- |: -------------:|\n",
    "|0|\t5,00|\n",
    "|50|4,52|\n",
    "|100|4,08|\n",
    "|150|3,68|\n",
    "|200|3,33|\n",
    "|250|3,00|\n",
    "|300|2,71|\n",
    "|350|2,45|\n",
    "|400|2,21|\n",
    "|450|2,00|\n",
    "|500|1,81|\n",
    "\n"
   ]
  },
  {
   "cell_type": "markdown",
   "metadata": {},
   "source": [
    "## Document 3 : Vitesse de disparition du saccharose"
   ]
  },
  {
   "cell_type": "markdown",
   "metadata": {},
   "source": [
    "La vitesse instantanée v<sub>i</sub> de disparition du saccharose peut s'écrire à chaque instant, hormis le premier et le dernier : \n",
    "\n",
    "$$ v_i = \\frac{[C_{12}H_{22}O_{11}]_{i+1}-[C_{12}H_{22}O_{11}]_{i-1}}{t_{i+1}-t_{i-1}} $$\n",
    "\n"
   ]
  },
  {
   "cell_type": "markdown",
   "metadata": {},
   "source": [
    "## Partie 1 : La vitesse par la loi d'ordre 1\n",
    "#### import des modules nécessaires pour l'étude\n",
    "matplotlib pour les tracer des graphiques  \n",
    "numpy pour faire des calculs sur les tableaux de mesures   \n",
    "scipy pour les calculs scientifiques (ici statistiques)   \n"
   ]
  },
  {
   "cell_type": "code",
   "execution_count": 1,
   "metadata": {},
   "outputs": [],
   "source": [
    "import matplotlib.pyplot as plt\n",
    "import numpy as np\n",
    "from scipy import stats"
   ]
  },
  {
   "cell_type": "markdown",
   "metadata": {},
   "source": [
    "### Introduire ici les données\n",
    "Uniquement les concentrations car le temps entre deux mesures est toujours le même : 50s\n",
    "\n",
    "<div style=\"color:red\">Cellule ci-dessous à compléter</div>\n",
    "0\t5,00\n",
    "50\t4,52\n",
    "100\t4,08\n",
    "150\t3,68\n",
    "200\t3,33\n",
    "250\t3,00\n",
    "300\t2,71\n",
    "350\t2,45\n",
    "400\t2,21\n",
    "450\t2,00\n",
    "500\t1,81\n"
   ]
  },
  {
   "cell_type": "code",
   "execution_count": 2,
   "metadata": {},
   "outputs": [
    {
     "name": "stdout",
     "output_type": "stream",
     "text": [
      "[5, 4.52, 4.08, 3.68, 3.33, 3.0, 2.71, 2.45, 2.21, 2, 1.81]\n",
      "[0, 50, 100, 150, 200, 250, 300, 350, 400, 450, 500]\n"
     ]
    }
   ],
   "source": [
    "c = [5,4.52,4.08,3.68,3.33,3.0,2.71,2.45,2.21,2,1.81]\n",
    "t = [0,50,100,150,200,250,300,350,400,450,500]\n",
    "print(c)\n",
    "print(t)"
   ]
  },
  {
   "cell_type": "markdown",
   "metadata": {},
   "source": [
    "### Tracer de la fonction C=f(t)\n",
    "<div style=\"color:red\">Programme ci-dessous à compléter</div>"
   ]
  },
  {
   "cell_type": "code",
   "execution_count": 3,
   "metadata": {},
   "outputs": [
    {
     "name": "stdout",
     "output_type": "stream",
     "text": [
      "[0, 50, 100, 150, 200, 250, 300, 350, 400, 450, 500]\n",
      "[5, 4.52, 4.08, 3.68, 3.33, 3.0, 2.71, 2.45, 2.21, 2, 1.81]\n"
     ]
    },
    {
     "data": {
      "image/png": "[encoded data removed]",
      "text/plain": [
       "<Figure size 432x288 with 1 Axes>"
      ]
     },
     "metadata": {
      "needs_background": "light"
     },
     "output_type": "display_data"
    }
   ],
   "source": [
    "print(t)\n",
    "print(c)\n",
    "# ici  vous indiquer les variables \n",
    "# plt.scatter(x, y, marker = '+', color = 'blue') marque les couples de points (x,y) par une croix\n",
    "# plt.plot(x, y, color='red') trace la courbe y=f(x) en rouge \n",
    "plt.scatter(t, c, marker = '+', color = 'blue')\n",
    "plt.plot(t, c, color='red')\n",
    "plt.xlabel('t en s')\n",
    "plt.ylabel('c mol/L')\n",
    "plt.title('Concentration en saccharose')\n",
    "plt.show()"
   ]
  },
  {
   "cell_type": "markdown",
   "metadata": {},
   "source": [
    "### Calcul de la vitesse\n",
    "Pour cela on utilse la fonction diff du module numpy : np.diff(y,x) pour dériver y par rapport à x   \n",
    "Puis suppression de la première et de la dernière mesure du  tableau de concentration puisqu'on ne peut pas avoir la vitesse à l'origine et à la fin\n"
   ]
  },
  {
   "cell_type": "code",
   "execution_count": 4,
   "metadata": {},
   "outputs": [
    {
     "name": "stdout",
     "output_type": "stream",
     "text": [
      "[0.0096 0.0088 0.008  0.007  0.0066 0.0058 0.0052 0.0048 0.0042 0.0038]\n"
     ]
    }
   ],
   "source": [
    "v = -np.diff(c)/50\n",
    "c = np.delete(c, len(c)-1, 0)\n",
    "print(v)"
   ]
  },
  {
   "cell_type": "markdown",
   "metadata": {},
   "source": [
    "### Modélisation de la courbe $v_{A} =k. [A] $   y=a.x\n",
    "<div style=\"color:red\">Répondre ci-dessous à la question</div>\n",
    "Quelle va être l'allure de la courbe donnant la vitesse en fonction de la concentration d'après l'équation de la définition ?\n",
    "\n",
    "\n",
    "\n",
    "\n",
    "\n",
    "\n",
    "\n",
    "\n",
    "\n",
    "\n",
    "\n"
   ]
  },
  {
   "cell_type": "raw",
   "metadata": {},
   "source": [
    "v est proportionnelle à la concentration c'est une fonction linéaire on doit avoir une droite passant l'origine. "
   ]
  },
  {
   "cell_type": "code",
   "execution_count": 5,
   "metadata": {},
   "outputs": [
    {
     "name": "stdout",
     "output_type": "stream",
     "text": [
      "Le modele affine v = a x c + b a pour coefficients : \n",
      " a = 0.0019491950503556963\n",
      " b = -4.844527607308826e-05\n"
     ]
    }
   ],
   "source": [
    "# Regression lineaire\n",
    "a, b, r, p, err = stats.linregress(c, v)\n",
    "print ('Le modele affine v = a x c + b a pour coefficients : \\n a = ' + str(a) + '\\n b = ' + str(b))"
   ]
  },
  {
   "cell_type": "markdown",
   "metadata": {},
   "source": [
    "<div style=\"color:red\">Répondre ci-dessous à la question</div>\n",
    "Le résultat de la modélisation est-elle conforme à votre provision ?"
   ]
  },
  {
   "cell_type": "raw",
   "metadata": {},
   "source": [
    "b=-0.0000484 pratiquement nul : imprécision des mesures\n",
    "vA =k .c d'où  k= 0,00195 en s^-1"
   ]
  },
  {
   "cell_type": "markdown",
   "metadata": {},
   "source": [
    "\n",
    "### Représentation de la modélisation"
   ]
  },
  {
   "cell_type": "code",
   "execution_count": 6,
   "metadata": {},
   "outputs": [
    {
     "name": "stdout",
     "output_type": "stream",
     "text": [
      "[-4.84452761e-05  1.03444086e-03  2.11732700e-03  3.20021314e-03\n",
      "  4.28309928e-03  5.36598542e-03  6.44887156e-03  7.53175770e-03\n",
      "  8.61464384e-03  9.69752998e-03]\n"
     ]
    }
   ],
   "source": [
    "cmodele=np.linspace(0,5,10)\n",
    "vmodele=a*cmodele+b\n",
    "print(vmodele)"
   ]
  },
  {
   "cell_type": "markdown",
   "metadata": {},
   "source": [
    "\n",
    "<div style=\"color:red\">Compléter le programme ci-dessous pour afficher les couples de points (c,v) correspondant aux mesures dans le scatter et la modélisation de la courbe vmodele=f(cmodele) dans le plot</div>"
   ]
  },
  {
   "cell_type": "markdown",
   "metadata": {},
   "source": [
    "### Tracé du graphique  $v_{A} =k. [A]$"
   ]
  },
  {
   "cell_type": "code",
   "execution_count": 7,
   "metadata": {},
   "outputs": [
    {
     "data": {
      "image/png": "[encoded data removed]",
      "text/plain": [
       "<Figure size 432x288 with 1 Axes>"
      ]
     },
     "metadata": {
      "needs_background": "light"
     },
     "output_type": "display_data"
    }
   ],
   "source": [
    "# Graphique\n",
    "plt.scatter(c, v, marker = '+', color = 'blue')\n",
    "plt.plot(cmodele,vmodele,color='green' )\n",
    "plt.xlabel('C en mol/L')\n",
    "plt.ylabel('V en mol/L/s')\n",
    "plt.title('Loi d\\'ordre 1')\n",
    "#indiquant les valeurs limites des axes pour redimensionner le graphiques\n",
    "plt.xlim(0,5)\n",
    "plt.ylim(0,0.01)\n",
    "plt.show()\n"
   ]
  },
  {
   "cell_type": "markdown",
   "metadata": {},
   "source": [
    "### Conclusion  : la réaction est-elle d'ordre 1 ?\n",
    "\n"
   ]
  },
  {
   "cell_type": "raw",
   "metadata": {},
   "source": [
    "On obtient bien une droite (linéaire) donc la vitesse de disparition du saccharose est d'ordre 1"
   ]
  },
  {
   "cell_type": "markdown",
   "metadata": {},
   "source": [
    "## Partie 2 : la vitesse par la solution de l'équation différentielle\n",
    "<div style=\"font-size:2em\">$ \\frac{d[A]}{dt}+ k[A]=0 $ admet comme solution $ [A] = [A0].e^{-k.t}$</div>  \n",
    "\n",
    "Pour vérifier que cette équation est suivie, on trace la courbe ln[A] = f(t). On doit obtenir une droite.   \n",
    "<div style=\"color:red\">Ecrire le programme permettant de tracer cette courbe et de la modéliser</div>\n",
    "Remarque : en python, on calcule le log népérien avec la fonction np.log !!!!\n"
   ]
  },
  {
   "cell_type": "code",
   "execution_count": 8,
   "metadata": {},
   "outputs": [
    {
     "name": "stdout",
     "output_type": "stream",
     "text": [
      "[0, 50, 100, 150, 200, 250, 300, 350, 400, 450, 500]\n",
      "[1.60943791 1.50851199 1.40609699 1.30291275 1.2029723  1.09861229\n",
      " 0.99694863 0.89608802 0.79299252 0.69314718 0.59332685]\n"
     ]
    }
   ],
   "source": [
    "#recopier les données déjà tapées plus haut car on avait éliminé deux mesures\n",
    "c = [5,4.52,4.08,3.68,3.33,3.0,2.71,2.45,2.21,2,1.81]\n",
    "#puis calculer les log\n",
    "lnA=np.log(c)\n",
    "print(t)\n",
    "print(lnA)"
   ]
  },
  {
   "cell_type": "code",
   "execution_count": 9,
   "metadata": {},
   "outputs": [
    {
     "name": "stdout",
     "output_type": "stream",
     "text": [
      "Le modele affine v = a x c + b a pour coefficients : \n",
      " a = -0.002036545660350361\n",
      " b = 1.6092316369376993\n"
     ]
    },
    {
     "data": {
      "image/png": "[encoded data removed]",
      "text/plain": [
       "<Figure size 432x288 with 1 Axes>"
      ]
     },
     "metadata": {
      "needs_background": "light"
     },
     "output_type": "display_data"
    }
   ],
   "source": [
    "# Graphique\n",
    "\n",
    "plt.scatter( t,lnA,marker='x',color='blue')\n",
    "plt.xlabel('t en s')\n",
    "plt.ylabel('ln[A]')\n",
    "plt.title('Loi d\\'ordre 1')\n",
    "\n",
    "#modélisation\n",
    "\n",
    "# Regression lineaire\n",
    "a, b, r, p, err = stats.linregress(t,lnA )\n",
    "print ('Le modele affine v = a x c + b a pour coefficients : \\n a = ' + str(a) + '\\n b = ' + str(b))\n",
    "#tracé de la modélisation\n",
    "t=np.linspace(0,500,11)\n",
    "lnAmodele=a*t+b\n",
    "plt.plot(t,lnAmodele,color='red')\n",
    "plt.xlim(0,500)\n",
    "plt.ylim(0,1.6)\n",
    "plt.show()"
   ]
  },
  {
   "cell_type": "markdown",
   "metadata": {},
   "source": [
    "<div style=\"color:red\">Répondre aux questions ci-dessous</div>\n",
    "En déduire la valeur de A<sub>0</sub> et la valeur de la constante de vitesse avec l'unité adéquate. \n",
    "\n"
   ]
  },
  {
   "cell_type": "raw",
   "metadata": {},
   "source": [
    "ln[A0]= 1,609 donc A0 = e^1,609 = 5.0\n",
    "k = 0.002s^-1"
   ]
  },
  {
   "cell_type": "code",
   "execution_count": 10,
   "metadata": {},
   "outputs": [
    {
     "name": "stdout",
     "output_type": "stream",
     "text": [
      "4.997810917177775\n"
     ]
    }
   ],
   "source": [
    "print(np.exp(1.609))"
   ]
  },
  {
   "cell_type": "markdown",
   "metadata": {},
   "source": [
    "Retrouve-t-on la même constante que dans l'étude précédente ?\n"
   ]
  },
  {
   "cell_type": "raw",
   "metadata": {},
   "source": [
    "On avait trouvé k = 0,00195 par la première méthode\n",
    "et on trouvé k = 0,002 par cette méthode\n",
    "soit avec un écart relatif de : "
   ]
  },
  {
   "cell_type": "code",
   "execution_count": 11,
   "metadata": {},
   "outputs": [
    {
     "name": "stdout",
     "output_type": "stream",
     "text": [
      "2.564102564102571\n"
     ]
    }
   ],
   "source": [
    "print((0.002-0.00195)/0.00195*100)"
   ]
  },
  {
   "cell_type": "raw",
   "metadata": {},
   "source": [
    "On a le même résultat à 2,56% près ce qui est très satisfaisant"
   ]
  }
 ],
 "metadata": {
  "kernelspec": {
   "display_name": "Python 3",
   "language": "python",
   "name": "python3"
  },
  "language_info": {
   "codemirror_mode": {
    "name": "ipython",
    "version": 3
   },
   "file_extension": ".py",
   "mimetype": "text/x-python",
   "name": "python",
   "nbconvert_exporter": "python",
   "pygments_lexer": "ipython3",
   "version": "3.7.1"
  }
 },
 "nbformat": 4,
 "nbformat_minor": 2
}
