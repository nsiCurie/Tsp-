{
 "cells": [
  {
   "cell_type": "markdown",
   "metadata": {},
   "source": [
    "# Ordre de réaction\n",
    "\n",
    "## Le sucre de consommation est principalement constitué de saccharose, une molécule susceptible de se décomposer et de former du glucose et du fructose (molécules isomères) en quantité équimolaire lors de son hydrolyse.\n",
    "<table>\n",
    "    <tr><td style=\"font-size:2em\">A</td><td style=\"font-size:2em\">+</td><td style=\"font-size:2em\">B</td><td style=\"font-size:2em\">-></td><td style=\"font-size:2em\">C</td><td style=\"font-size:2em\">+</td><td style=\"font-size:2em\">D</td></tr>   \n",
    "<tr><td style=\"font-size:2em\">C<sub>12</sub>H<sub>22</sub>O<sub>11</sub></td><td>+</td><td style=\"font-size:2em\">H<sub>2</sub>O</td><td style=\"font-size:2em\">-></td><td style=\"font-size:2em\">C<sub>6</sub>H<sub>12</sub>O<sub>6</sub></td><td style=\"font-size:2em\">+</td><td style=\"font-size:2em\">C<sub>6</sub>H<sub>12</sub>O<sub>6</sub></td></tr>\n",
    "</table>\n",
    "\n",
    "\n",
    "### ➜ Quelle équation peut modéliser la vitesse de cette réaction ?\n",
    "\n",
    "\n",
    "<div style=\"color:red;font-size:1.8em;margin-top:20px\"> Vous répondez sur ce document que vous imprimez ensuite en pdf</div>"
   ]
  },
  {
   "cell_type": "markdown",
   "metadata": {},
   "source": [
    "## Document 1 : Ordre de réaction\n",
    "<div style=\"border:1px solid black;padding:20px;\">\n",
    "\n",
    "Une réaction, dont la vitesse ne dépend que de la concentration d’un seul réactif $A_{aq}$, est dite d’ordre α si la vitesse volumique de disparition de $A_{aq}$ s’écrit :   \n",
    "$v_{A} =k. {[A]}^{α} \\begin{array}{l|ll}& k &:& constante~de~vitesse (SI)  \\\\&  [A] &:& concentration~en~réactif~A_{aq}~({mol·L}^{-1})   \\\\&  α&:& ordre~ de~la~réaction\\\\\\end{array}$   \n",
    "\n",
    "De nombreuses réactions de décomposition sont d’ordre 1 (α=1 et k en $s^{-1}$).    \n",
    "La vitesse volumique de disparition de $A_{aq}$ est alors proportionnelle à sa concentration \\[A\\].\n",
    "</div>"
   ]
  },
  {
   "cell_type": "markdown",
   "metadata": {},
   "source": [
    "## Document 2 :  Mesures\n",
    "<div style=\"border:1px solid black;padding:20px;\">\n",
    "Ce tableau présente l’évolution au cours du temps de la concentration en saccharose  C<sub>12</sub>H<sub>22</sub>O<sub>11</sub> à 370 K.\n",
    "\n",
    "|Temps t (s)|Concentration C<sub>12</sub>H<sub>22</sub>O<sub>11</sub> (mol·L<sup>-1</sup>)|\n",
    "| ------------- |: -------------:|\n",
    "|0|\t5,00|\n",
    "|50|4,52|\n",
    "|100|4,08|\n",
    "|150|3,68|\n",
    "|200|3,33|\n",
    "|250|3,00|\n",
    "|300|2,71|\n",
    "|350|2,45|\n",
    "|400|2,21|\n",
    "|450|2,00|\n",
    "|500|1,81|\n",
    "\n",
    "<div>"
   ]
  },
  {
   "cell_type": "markdown",
   "metadata": {},
   "source": [
    "## Document 3 : Vitesse de disparition du saccharose\n",
    "<div style=\"border:1px solid black;padding:20px;\">\n",
    "La vitesse instantanée v<sub>i</sub> de disparition du saccharose peut s'écrire à chaque instant, hormis le premier et le dernier :  \n",
    "\n",
    "<p style=\"font-size:1.8em\">$$ v_i = \\frac{[C_{12}H_{22}O_{11}]_{i+1}]-[C_{12}H_{22}O_{11}]_{i-1}}{t_{i+1}-t_{i-1}} $$</p>\n",
    "\n",
    "</div>"
   ]
  },
  {
   "cell_type": "markdown",
   "metadata": {},
   "source": [
    "## Partie 1 : La vitesse par la loi d'ordre 1\n",
    "#### import des modules nécessaires pour l'étude\n",
    "matplotlib pour les tracer des graphiques\n",
    "numpy pour faire des calculs sur les tableaux de mesures\n",
    "scipy pour les calculs scientifiques (ici statistiques)\n"
   ]
  },
  {
   "cell_type": "code",
   "execution_count": null,
   "metadata": {},
   "outputs": [],
   "source": [
    "import matplotlib.pyplot as plt\n",
    "import numpy as np\n",
    "from scipy import stats"
   ]
  },
  {
   "cell_type": "markdown",
   "metadata": {},
   "source": [
    "### Introduire ici les données\n",
    "Uniquement les concentrations car le temps entre deux mesures est toujours le même : 50s\n",
    "\n",
    "<div style=\"color:red\">Cellule ci-dessous à compléter</div>"
   ]
  },
  {
   "cell_type": "code",
   "execution_count": 1,
   "metadata": {},
   "outputs": [
    {
     "ename": "SyntaxError",
     "evalue": "invalid syntax (<ipython-input-1-23a91e1745a8>, line 1)",
     "output_type": "error",
     "traceback": [
      "\u001b[1;36m  File \u001b[1;32m\"<ipython-input-1-23a91e1745a8>\"\u001b[1;36m, line \u001b[1;32m1\u001b[0m\n\u001b[1;33m    c =\u001b[0m\n\u001b[1;37m       ^\u001b[0m\n\u001b[1;31mSyntaxError\u001b[0m\u001b[1;31m:\u001b[0m invalid syntax\n"
     ]
    }
   ],
   "source": [
    "c =\n",
    "t=\n"
   ]
  },
  {
   "cell_type": "markdown",
   "metadata": {},
   "source": [
    "### Tracer de la fonction C=f(t)\n",
    "<div style=\"color:red\">Programme ci-dessous à compléter</div>"
   ]
  },
  {
   "cell_type": "code",
   "execution_count": null,
   "metadata": {},
   "outputs": [],
   "source": [
    "print(t)\n",
    "print(c)\n",
    "# ici  vous indiquer les variables \n",
    "# plt.scatter(x, y, marker = '+', color = 'blue') marque les couples de points (x,y) par une croix\n",
    "# plt.plot(x, y, color='red') trace la courbe y=f(x) en rouge \n",
    "plt.scatter(                                       )\n",
    "plt.plot(                        )\n",
    "plt.xlabel('mettre une légende')\n",
    "plt.ylabel(' mettre une légende    ')\n",
    "plt.title('mettre un titre ')\n",
    "plt.show()"
   ]
  },
  {
   "cell_type": "markdown",
   "metadata": {},
   "source": [
    "### Calcul de la vitesse\n",
    "Pour cela on utilse la fonction diff du module numpy : np.diff(y,x) pour dériver y par rapport à x   \n",
    "Puis suppression de la première et de la dernière mesure du  tableau de concentration puisqu'on ne peut pas avoir la vitesse à l'origine et à la fin\n"
   ]
  },
  {
   "cell_type": "code",
   "execution_count": null,
   "metadata": {},
   "outputs": [],
   "source": [
    "v = -np.diff(c)/50\n",
    "c = np.delete(c, len(c)-1, 0)\n",
    "print(v)"
   ]
  },
  {
   "cell_type": "markdown",
   "metadata": {},
   "source": [
    "### Modélisation de la courbe $v_{A} =k. [A] $ \n",
    "<div style=\"color:red\">Répondre ci-dessous à la question</div>\n",
    "Quelle va être l'allure de la courbe donnant la vitesse en fonction de la concentration d'après l'équation de la définition ?\n",
    "\n",
    "\n",
    "\n",
    "\n",
    "\n",
    "\n",
    "\n",
    "\n",
    "\n",
    "\n",
    "\n"
   ]
  },
  {
   "cell_type": "raw",
   "metadata": {},
   "source": []
  },
  {
   "cell_type": "code",
   "execution_count": null,
   "metadata": {},
   "outputs": [],
   "source": [
    "# Regression lineaire\n",
    "a, b, r, p, err = stats.linregress(c, v)\n",
    "print ('Le modele affine v = a x c + b a pour coefficients : \\n a = ' + str(a) + '\\n b = ' + str(b))"
   ]
  },
  {
   "cell_type": "markdown",
   "metadata": {},
   "source": [
    "<div style=\"color:red\">Répondre ci-dessous à la question</div>\n",
    "Le résultat de la modélisation est-elle conforme à votre provision ?"
   ]
  },
  {
   "cell_type": "raw",
   "metadata": {},
   "source": []
  },
  {
   "cell_type": "markdown",
   "metadata": {},
   "source": [
    "\n",
    "### Représentation de la modélisation"
   ]
  },
  {
   "cell_type": "code",
   "execution_count": null,
   "metadata": {},
   "outputs": [],
   "source": [
    "cmodele=np.linspace(0,5,10)\n",
    "vmodele=a*ctheo+b"
   ]
  },
  {
   "cell_type": "markdown",
   "metadata": {},
   "source": [
    "\n",
    "<div style=\"color:red\">Compléter le programme ci-dessous pour afficher les couples de points (c,v) correspondant aux mesures dans le scatter et la modélisation de la courbe vmodele=f(cmodele) dans le plot</div>"
   ]
  },
  {
   "cell_type": "markdown",
   "metadata": {},
   "source": [
    "### Tracé du graphique  $v_{A} =k. [A]$"
   ]
  },
  {
   "cell_type": "code",
   "execution_count": null,
   "metadata": {},
   "outputs": [],
   "source": [
    "# Graphique\n",
    "plt.scatter(               )\n",
    "plt.plot( )\n",
    "plt.xlabel('                ')\n",
    "plt.ylabel('                ')\n",
    "plt.title('                 ')\n",
    "#indiquant les valeurs limites des axes pour redimensionner le graphiques\n",
    "#plt.xlim(xmini,xmaxi)\n",
    "#plt.ylim(ymini,ymaxi)\n",
    "plt.show()"
   ]
  },
  {
   "cell_type": "markdown",
   "metadata": {},
   "source": [
    "### Conclusion  : la réaction est-elle d'ordre 1 ?\n",
    "\n"
   ]
  },
  {
   "cell_type": "raw",
   "metadata": {},
   "source": []
  },
  {
   "cell_type": "markdown",
   "metadata": {},
   "source": [
    "## Partie 2 : la vitesse par la solution de l'équation différentielle\n",
    "<div style=\"font-size:2em\">$ \\frac{d[A]}{dt}+ k[A]=0 $ admet comme solution $ v = [A0].e^{-k.t}$</div>  \n",
    "\n",
    "Pour vérifier que cette équation est suivie, on trace la courbe ln[A] = f(t). On doit obtenir une droite.   \n",
    "<div style=\"color:red\">Ecrire le programme permettant de tracer cette courbe et de la modéliser</div>\n",
    "Remarque : en python, on calcule le log népérien avec la fonction np.log !!!!\n"
   ]
  },
  {
   "cell_type": "code",
   "execution_count": null,
   "metadata": {},
   "outputs": [],
   "source": [
    "#recopier les données déjà tapées plus haut car on avait éliminé deux mesures\n",
    "c = \n",
    "#puis calculer les log\n",
    "lnA=\n",
    "print(t)\n",
    "print(lnA)"
   ]
  },
  {
   "cell_type": "code",
   "execution_count": null,
   "metadata": {},
   "outputs": [],
   "source": [
    "# Graphique\n",
    "\n",
    "plt.scatter(     )\n",
    "plt.plot(  )\n",
    "\n",
    "#modélisation\n",
    "# Regression lineaire\n",
    "a, b, r, p, err = stats.linregress( )\n",
    "print ('Le modele affine v = a x c + b a pour coefficients : \\n a = ' + str(a) + '\\n b = ' + str(b))\n",
    "#tracé de la modélisation\n",
    "\n",
    "plt.show()"
   ]
  },
  {
   "cell_type": "markdown",
   "metadata": {},
   "source": [
    "<div style=\"color:red\">Répondre aux questions ci-dessous</div>\n",
    "En déduire la valeur de A<sub>0</sub> et la valeur de la constante de vitesse avec l'unité adéquate. \n",
    "\n"
   ]
  },
  {
   "cell_type": "raw",
   "metadata": {},
   "source": []
  },
  {
   "cell_type": "markdown",
   "metadata": {},
   "source": [
    "Retrouve-t-on la même constante que dans l'étude précédente ?\n"
   ]
  },
  {
   "cell_type": "raw",
   "metadata": {},
   "source": []
  }
 ],
 "metadata": {
  "kernelspec": {
   "display_name": "Python 3",
   "language": "python",
   "name": "python3"
  },
  "language_info": {
   "codemirror_mode": {
    "name": "ipython",
    "version": 3
   },
   "file_extension": ".py",
   "mimetype": "text/x-python",
   "name": "python",
   "nbconvert_exporter": "python",
   "pygments_lexer": "ipython3",
   "version": "3.7.1"
  }
 },
 "nbformat": 4,
 "nbformat_minor": 2
}
