{
 "cells": [
  {
   "cell_type": "markdown",
   "metadata": {},
   "source": [
    "# Diagramme de distribution et pKA du vert de bromocrésol"
   ]
  },
  {
   "cell_type": "code",
   "execution_count": null,
   "metadata": {
    "scrolled": true
   },
   "outputs": [],
   "source": [
    "import numpy as np\n",
    "import matplotlib.pyplot as plt\n",
    "%matplotlib notebook"
   ]
  },
  {
   "cell_type": "markdown",
   "metadata": {},
   "source": [
    "## 1. Données\n",
    "Indiquer ci-dessous la concentration en vert de bromocrésol dans chaque bécher"
   ]
  },
  {
   "cell_type": "code",
   "execution_count": null,
   "metadata": {},
   "outputs": [],
   "source": [
    "c="
   ]
  },
  {
   "cell_type": "markdown",
   "metadata": {},
   "source": [
    "## 2. Mesures\n",
    "Indiquez ci-dessous les mesures de pH et d'absorbance pour les 16 solutions du TP"
   ]
  },
  {
   "cell_type": "code",
   "execution_count": null,
   "metadata": {},
   "outputs": [],
   "source": [
    "#Solution de vert de bromocrésol\n",
    "\n",
    "pH=np.array([                                     ])\n",
    "A=np.array([                                      ])\n",
    "Amax="
   ]
  },
  {
   "cell_type": "markdown",
   "metadata": {},
   "source": [
    "## 3. Calcul\n",
    "Programmer les formules permettant de calculer les concentrations de la forme acide et de la forme basique du vert de bromocrésol    \n",
    "\n",
    "On notera Cb=[Ind<sup>-</sup>] et Ca =[HInd]  \n"
   ]
  },
  {
   "cell_type": "code",
   "execution_count": null,
   "metadata": {},
   "outputs": [],
   "source": [
    "Cb=\n",
    "Ca=\n",
    "\n",
    "# pour avoir les valeur en pourcentage\n",
    "CbPourcent=Cb/c*100\n",
    "CaPourcent=Ca/c*100"
   ]
  },
  {
   "cell_type": "markdown",
   "metadata": {},
   "source": [
    "## 4. Graphique\n",
    "Compléter le code suivant pour tracer les deux courbes [Hind]=f(pH) et [Ind<sup>-</sup>]=f(pH)\n"
   ]
  },
  {
   "cell_type": "code",
   "execution_count": null,
   "metadata": {},
   "outputs": [],
   "source": [
    "plt.figure('Diagrame de distribution du vert de Bromocrésol',figsize=(9,7),dpi=80)\n",
    "# rappel de la syntaxe :  plt.plot(x,y,style,label=\"titre courbe\")\n",
    "# style -b courbe avec point relié en bleu\n",
    "# style +y courbe avec point spous forme de croix en jaune\n",
    "\n",
    "#[HInd]\n",
    "plt.plot(     ,     ,'-y',label=\"[HInd]=f(pH)\")\n",
    "#[Ind-]\n",
    "plt.plot(     ,     ,'-b',label=\"[Ind-]=f(pH)\")\n",
    "\n",
    "plt.legend()\n",
    "plt.show()"
   ]
  }
 ],
 "metadata": {
  "kernelspec": {
   "display_name": "Python 3",
   "language": "python",
   "name": "python3"
  },
  "language_info": {
   "codemirror_mode": {
    "name": "ipython",
    "version": 3
   },
   "file_extension": ".py",
   "mimetype": "text/x-python",
   "name": "python",
   "nbconvert_exporter": "python",
   "pygments_lexer": "ipython3",
   "version": "3.7.1"
  }
 },
 "nbformat": 4,
 "nbformat_minor": 2
}
