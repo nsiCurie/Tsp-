{
 "cells": [
  {
   "attachments": {},
   "cell_type": "markdown",
   "metadata": {},
   "source": [
    "# Etude énergétique d'une tyrolienne\n"
   ]
  },
  {
   "cell_type": "code",
   "execution_count": null,
   "metadata": {},
   "outputs": [],
   "source": [
    "import matplotlib.pyplot as plt\n",
    "import numpy as np\n",
    "\n",
    "%matplotlib inline\n",
    "# Lecture des donnees du fichier txt\n",
    "t, x, y = np.loadtxt('donnees.txt', unpack=True, usecols=(0, 1, 2), delimiter = '\\t', skiprows = 2)\n",
    "\n",
    "\n",
    "# ************************* Partie à compléter ********************************************\n",
    "# Programmation des formules de physique \n",
    "\n",
    "vx = \n",
    "vy = \n",
    "v = \n",
    "m = \n",
    "g = \n",
    "Ec = \n",
    "yCor = \n",
    "Epp =         *yCor[:-1]\n",
    "Em = \n",
    "\n",
    "# ************************* Fin de la partie à compléter *************************************\n",
    "\n",
    "\n",
    "\n",
    "plt.figure('Tyrolienne',figsize=(16,7),dpi=80)\n",
    "plt.subplot(1,3,1)\n",
    "# Creation du graphique\n",
    "plt.axis('equal')\n",
    "plt.title('Trajectoire de la tyrolienne')\n",
    "plt.xlabel('Abscisse x (m)')\n",
    "plt.ylabel('Altitude y (m)')\n",
    "plt.plot(x, y, color = 'blue', label = 'Trajectoire', marker = '+')\n",
    "plt.legend()\n",
    "\n",
    "plt.subplot(1,3,2)\n",
    "# Creation du graphique des energies\n",
    "plt.title('Energies de la tyrolienne')\n",
    "plt.xlabel('Temps t (s)')\n",
    "plt.ylabel('Energie (J)')\n",
    "plt.plot(t[:-1], Ec, color = 'blue', label = 'Energie cinetique', marker = '+')\n",
    "plt.plot(t[:-1], Epp, color = 'red', label = 'Energie potentielle de pesanteur', marker = '+')\n",
    "plt.plot(t[:-1], Em, color = 'green', label = 'Energie mecanique', marker = '+')\n",
    "plt.legend()\n",
    "\n",
    "plt.subplot(1,3,3)\n",
    "# Creation du graphique\n",
    "plt.title('Vitesse de la tyrolienne')\n",
    "plt.xlabel('Temps t (s)')\n",
    "plt.ylabel('Vitesse v (m/s)')\n",
    "plt.plot(t[:-1], v, color = 'orange', label = 'Vitesse', marker = '+')\n",
    "plt.legend()\n",
    "plt.show()"
   ]
  },
  {
   "cell_type": "code",
   "execution_count": null,
   "metadata": {},
   "outputs": [],
   "source": []
  }
 ],
 "metadata": {
  "kernelspec": {
   "display_name": "Python 3",
   "language": "python",
   "name": "python3"
  },
  "language_info": {
   "codemirror_mode": {
    "name": "ipython",
    "version": 3
   },
   "file_extension": ".py",
   "mimetype": "text/x-python",
   "name": "python",
   "nbconvert_exporter": "python",
   "pygments_lexer": "ipython3",
   "version": "3.7.1"
  }
 },
 "nbformat": 4,
 "nbformat_minor": 2
}
